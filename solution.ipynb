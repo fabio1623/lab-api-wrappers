{
 "cells": [
  {
   "cell_type": "code",
   "execution_count": null,
   "metadata": {},
   "outputs": [],
   "source": [
    "import spotipy\n",
    "import json\n",
    "import time\n",
    "import numpy as np\n",
    "import pandas as pd\n",
    "from spotipy.oauth2 import SpotifyClientCredentials\n",
    "from getpass import getpass\n",
    "from itertools import groupby\n",
    "from operator import itemgetter"
   ]
  },
  {
   "cell_type": "code",
   "execution_count": null,
   "metadata": {},
   "outputs": [],
   "source": [
    "# Create Spotify client\n",
    "\n",
    "client_id = getpass(prompt='Enter Spotify Client ID: ')\n",
    "client_secret = getpass(prompt='Enter Spotify Client Secret: ')\n",
    "\n",
    "spotify_client = spotipy.Spotify(client_credentials_manager=SpotifyClientCredentials(client_id=client_id, client_secret=client_secret))"
   ]
  },
  {
   "cell_type": "code",
   "execution_count": null,
   "metadata": {},
   "outputs": [],
   "source": [
    "genres = spotify_client.recommendation_genre_seeds()['genres']\n",
    "len(genres)"
   ]
  },
  {
   "cell_type": "code",
   "execution_count": null,
   "metadata": {},
   "outputs": [],
   "source": [
    "# Helpers functions\n",
    "\n",
    "def extract_album_data(album):\n",
    "    return {\n",
    "        'id': album['id'],\n",
    "        'name': album['name'],\n",
    "        'release_date': album['release_date'],\n",
    "        'total_tracks': album['total_tracks'],\n",
    "        'artists': [(artist['id'], artist['name']) for artist in album['artists']]\n",
    "    }\n",
    "\n",
    "\n",
    "def extract_artists_data(artists):\n",
    "    return [(artist['id'], artist['name']) for artist in artists]\n",
    "\n",
    "\n",
    "def try_extract_data(item):\n",
    "    try:\n",
    "        return {\n",
    "            'id': item['id'],\n",
    "            'name': item['name'],\n",
    "            'album': extract_album_data(item['album']),\n",
    "            'artists': extract_artists_data(item['artists'])\n",
    "        }\n",
    "    except:\n",
    "        return {}"
   ]
  },
  {
   "cell_type": "code",
   "execution_count": null,
   "metadata": {},
   "outputs": [],
   "source": [
    "def search_genre_with_retry(genre, max_retries=5, backoff_factor=0.1):\n",
    "    for i in range(max_retries):\n",
    "        try:\n",
    "            return spotify_client.search(q=f'genre:{genre}', type='track')['tracks']\n",
    "        except Exception as e:\n",
    "            print(f\"Could not get results when searching genre'{genre}'. Trying again.\")\n",
    "            pass\n",
    "        if i < max_retries - 1:\n",
    "            delay = backoff_factor * (2 ** i)\n",
    "            time.sleep(delay)\n",
    "    \n",
    "    print(f\"Max retries exceeded. Ignoring genre '{genre}'.\")\n",
    "    return None\n",
    "\n",
    "\n",
    "def next_with_retry(genre, results, max_retries=5, backoff_factor=0.1):\n",
    "    for i in range(max_retries):\n",
    "        try:\n",
    "            return spotify_client.next(results)['tracks']\n",
    "        except Exception as e:\n",
    "            print(f\"Could not get next page from genre '{genre}'. Current offset: '{results['offset']}'. Trying again.\")\n",
    "            pass\n",
    "        if i < max_retries - 1:\n",
    "            delay = backoff_factor * (2 ** i)\n",
    "            time.sleep(delay)\n",
    "    \n",
    "    print(f\"Max retries exceeded. Ignoring genre '{genre}' at offset '{results['offset'] + 50}'.\")\n",
    "    return None\n",
    "\n",
    "\n",
    "def get_all_tracks_by_genre(genre):\n",
    "    results = search_genre_with_retry(genre)\n",
    "    if results == None:\n",
    "        return []\n",
    "\n",
    "    tracks = [try_extract_data(item) for item in results['items']]\n",
    "    while results['next'] != None:\n",
    "        results = next_with_retry(genre, results)\n",
    "        if results == None:\n",
    "            break\n",
    "        \n",
    "        tracks += [try_extract_data(item) for item in results['items']]\n",
    "    \n",
    "    return tracks"
   ]
  },
  {
   "cell_type": "code",
   "execution_count": null,
   "metadata": {},
   "outputs": [],
   "source": [
    "songs = []\n",
    "\n",
    "for genre in genres:\n",
    "    songs += get_all_tracks_by_genre(genre)\n",
    "\n",
    "len(songs)"
   ]
  },
  {
   "cell_type": "code",
   "execution_count": null,
   "metadata": {},
   "outputs": [],
   "source": [
    "# Save songs json into song_data.json\n",
    "\n",
    "with open('song_data.json', 'w') as f:\n",
    "    json.dump(songs, f)"
   ]
  },
  {
   "cell_type": "code",
   "execution_count": null,
   "metadata": {},
   "outputs": [],
   "source": [
    "# Load song_data.json into songs\n",
    "\n",
    "with open(\"song_data.json\", \"r\") as f:\n",
    "    songs = json.load(f)\n",
    "\n",
    "len(songs)"
   ]
  },
  {
   "cell_type": "code",
   "execution_count": null,
   "metadata": {},
   "outputs": [],
   "source": [
    "# Select unique songs\n",
    "\n",
    "songs.sort(key=itemgetter('id'))\n",
    "songs = [next(g) for _, g in groupby(songs, key=itemgetter('id'))]\n",
    "len(songs)"
   ]
  },
  {
   "cell_type": "code",
   "execution_count": null,
   "metadata": {},
   "outputs": [],
   "source": [
    "# There are too many songs so we split the array in 1000\n",
    "\n",
    "song_groups = np.array_split(songs, 1000, axis=0)"
   ]
  },
  {
   "cell_type": "code",
   "execution_count": null,
   "metadata": {},
   "outputs": [],
   "source": [
    "# Helper functions\n",
    "\n",
    "def get_audio_features_with_retry(group_number, ids, max_retries=5, backoff_factor=0.1):\n",
    "    for i in range(max_retries):\n",
    "        try:\n",
    "            return spotify_client.audio_features(ids)\n",
    "        except Exception as e:\n",
    "            print(f\"Could not get audio features from group '{group_number}'. Trying again.\")\n",
    "            pass\n",
    "        if i < max_retries - 1:\n",
    "            delay = backoff_factor * (2 ** i)\n",
    "            time.sleep(delay)\n",
    "    \n",
    "    print(f\"Max retries exceeded. Ignoring group '{group_number}.\")\n",
    "    return None"
   ]
  },
  {
   "cell_type": "code",
   "execution_count": null,
   "metadata": {},
   "outputs": [],
   "source": [
    "# Enrich songs with their Audio features\n",
    "\n",
    "for group_number in range(len(song_groups)):\n",
    "    ids = [song['id'] for song in song_groups[group_number]]\n",
    "    audio_features = get_audio_features_with_retry(group_number, ids)\n",
    "    if audio_features == None:\n",
    "        continue\n",
    "\n",
    "    song_groups[group_number] = [{**a, 'audio_features': b} for a, b in zip(song_groups[group_number], audio_features)]"
   ]
  },
  {
   "cell_type": "code",
   "execution_count": null,
   "metadata": {},
   "outputs": [],
   "source": [
    "# Merge split songs lists again\n",
    "\n",
    "songs = np.concatenate(song_groups)\n",
    "len(songs)"
   ]
  },
  {
   "cell_type": "code",
   "execution_count": null,
   "metadata": {},
   "outputs": [],
   "source": [
    "# Save songs into enriched_song_data.json\n",
    "\n",
    "songs = list(songs)\n",
    "with open('enriched_song_data.json', 'w') as f:\n",
    "    json.dump(songs, f)"
   ]
  },
  {
   "cell_type": "code",
   "execution_count": null,
   "metadata": {},
   "outputs": [],
   "source": [
    "songs_data = pd.json_normalize(songs)"
   ]
  },
  {
   "cell_type": "code",
   "execution_count": null,
   "metadata": {},
   "outputs": [],
   "source": [
    "songs_data.to_csv('songs_data.csv')"
   ]
  }
 ],
 "metadata": {
  "kernelspec": {
   "display_name": "base",
   "language": "python",
   "name": "python3"
  },
  "language_info": {
   "codemirror_mode": {
    "name": "ipython",
    "version": 3
   },
   "file_extension": ".py",
   "mimetype": "text/x-python",
   "name": "python",
   "nbconvert_exporter": "python",
   "pygments_lexer": "ipython3",
   "version": "3.9.13"
  },
  "orig_nbformat": 4,
  "vscode": {
   "interpreter": {
    "hash": "40d3a090f54c6569ab1632332b64b2c03c39dcf918b08424e98f38b5ae0af88f"
   }
  }
 },
 "nbformat": 4,
 "nbformat_minor": 2
}
